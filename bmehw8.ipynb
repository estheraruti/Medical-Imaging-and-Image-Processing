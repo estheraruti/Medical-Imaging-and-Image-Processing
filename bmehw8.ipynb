{
 "cells": [
  {
   "cell_type": "markdown",
   "metadata": {
    "id": "ZL6M6dUWzbCZ"
   },
   "source": [
    "Maximum Likelihood Estimation using EM iteration"
   ]
  },
  {
   "cell_type": "markdown",
   "metadata": {
    "id": "ypSOIebL3Tgl"
   },
   "source": [
    "you are given the maximum likelihood reconstructed image and from it you want to get the original image. The original image will be recovered when"
   ]
  },
  {
   "cell_type": "markdown",
   "metadata": {},
   "source": [
    "As discussed in class today, assignment 8 is to perform maximum likelihood estimation (Slide 13 & 14):\n",
    "\n",
    "- forward project from an initial uniform estimation f (all values in original image space equal to 1)  to obtain an estimate g* for the radon transform\n",
    "- find the ratio by dividing actual radon (on website, g) by the calculated estimate (g*)\n",
    "- backproject this ratio\n",
    "- multiply this backprojection with the previous estimate (f) to produce an updated estimate\n",
    "- repeat 1-4 (~50x), until c settles at 1 and stops updating\n",
    "\n",
    "This assignment will be due next week on Tuesday (11/12) before class"
   ]
  },
  {
   "cell_type": "code",
   "execution_count": 15,
   "metadata": {
    "executionInfo": {
     "elapsed": 100,
     "status": "ok",
     "timestamp": 1730835448229,
     "user": {
      "displayName": "Esther Aruti Briseño",
      "userId": "08098145026260746494"
     },
     "user_tz": 300
    },
    "id": "uja9WZczx_IX"
   },
   "outputs": [],
   "source": [
    "import scipy\n",
    "import skimage as ski\n",
    "import numpy as np\n",
    "import matplotlib.pyplot as plt\n",
    "from PIL import Image"
   ]
  },
  {
   "cell_type": "code",
   "execution_count": null,
   "metadata": {},
   "outputs": [],
   "source": [
    "img = Image.open()"
   ]
  },
  {
   "cell_type": "code",
   "execution_count": null,
   "metadata": {
    "id": "iMkkY90I2lK-"
   },
   "outputs": [
    {
     "data": {
      "application/vnd.jupyter.widget-view+json": {
       "model_id": "829e6259eea74a69b470c93c8cde3228",
       "version_major": 2,
       "version_minor": 0
      },
      "text/plain": [
       "BokehModel(combine_events=True, render_bundle={'docs_json': {'baa8b5b6-c371-4513-a58e-588e73784b24': {'version…"
      ]
     },
     "execution_count": 18,
     "metadata": {},
     "output_type": "execute_result"
    }
   ],
   "source": [
    "# make the matrix of the initial uniform estimation\n",
    "f = np.ones((100,100))"
   ]
  },
  {
   "cell_type": "code",
   "execution_count": null,
   "metadata": {
    "executionInfo": {
     "elapsed": 330,
     "status": "ok",
     "timestamp": 1730835612784,
     "user": {
      "displayName": "Esther Aruti Briseño",
      "userId": "08098145026260746494"
     },
     "user_tz": 300
    },
    "id": "p7NqIhwMzyBg"
   },
   "outputs": [],
   "source": [
    "# forward project with radon transform\n",
    "gi_hat = ski.transform.radon(f)"
   ]
  },
  {
   "cell_type": "code",
   "execution_count": 14,
   "metadata": {
    "executionInfo": {
     "elapsed": 116,
     "status": "ok",
     "timestamp": 1730835584737,
     "user": {
      "displayName": "Esther Aruti Briseño",
      "userId": "08098145026260746494"
     },
     "user_tz": 300
    },
    "id": "fBFlFdsw0cbC"
   },
   "outputs": [],
   "source": [
    "# make gi, the actual observation\n",
    "gi = np.random.rand(100,100)"
   ]
  },
  {
   "cell_type": "code",
   "execution_count": null,
   "metadata": {
    "colab": {
     "base_uri": "https://localhost:8080/",
     "height": 159
    },
    "executionInfo": {
     "elapsed": 109,
     "status": "error",
     "timestamp": 1730835587845,
     "user": {
      "displayName": "Esther Aruti Briseño",
      "userId": "08098145026260746494"
     },
     "user_tz": 300
    },
    "id": "bP8ul2mQzNtz",
    "outputId": "f43b23d2-7aa8-4bb8-bc98-2e8a4b8bae56"
   },
   "outputs": [
    {
     "ename": "ValueError",
     "evalue": "operands could not be broadcast together with shapes (100,100) (100,180) ",
     "output_type": "error",
     "traceback": [
      "\u001b[0;31m---------------------------------------------------------------------------\u001b[0m",
      "\u001b[0;31mValueError\u001b[0m                                Traceback (most recent call last)",
      "\u001b[0;32m<ipython-input-15-d17fe7ab3f58>\u001b[0m in \u001b[0;36m<cell line: 2>\u001b[0;34m()\u001b[0m\n\u001b[1;32m      1\u001b[0m \u001b[0;31m# back projection is ratio of actual observation / radon of guess\u001b[0m\u001b[0;34m\u001b[0m\u001b[0;34m\u001b[0m\u001b[0m\n\u001b[0;32m----> 2\u001b[0;31m \u001b[0mr\u001b[0m \u001b[0;34m=\u001b[0m \u001b[0mgi\u001b[0m \u001b[0;34m/\u001b[0m \u001b[0mg_hat\u001b[0m\u001b[0;34m\u001b[0m\u001b[0;34m\u001b[0m\u001b[0m\n\u001b[0m",
      "\u001b[0;31mValueError\u001b[0m: operands could not be broadcast together with shapes (100,100) (100,180) "
     ]
    }
   ],
   "source": [
    "# ratio of actual observation / radon of guess\n",
    "r = gi / gi_hat"
   ]
  },
  {
   "cell_type": "code",
   "execution_count": null,
   "metadata": {},
   "outputs": [],
   "source": [
    "# correction factor c is the backprojection of r\n",
    "c = ski.transform.radon(r)"
   ]
  },
  {
   "cell_type": "code",
   "execution_count": null,
   "metadata": {},
   "outputs": [],
   "source": [
    "# multiply backprojection with estimation to produce updated estimate\n",
    "update_f = c * f"
   ]
  },
  {
   "cell_type": "code",
   "execution_count": null,
   "metadata": {
    "id": "JgqMUOgt2SXZ"
   },
   "outputs": [],
   "source": [
    "# EM iteration repeat until correction factor equals 1\n",
    "i = number of observations (pixels)\n",
    "\n",
    "until c = 1\n"
   ]
  }
 ],
 "metadata": {
  "colab": {
   "authorship_tag": "ABX9TyPnaAirpQD0v5U/DAD9aYPL",
   "provenance": []
  },
  "kernelspec": {
   "display_name": "Python 3",
   "name": "python3"
  },
  "language_info": {
   "codemirror_mode": {
    "name": "ipython",
    "version": 3
   },
   "file_extension": ".py",
   "mimetype": "text/x-python",
   "name": "python",
   "nbconvert_exporter": "python",
   "pygments_lexer": "ipython3",
   "version": "3.12.1"
  }
 },
 "nbformat": 4,
 "nbformat_minor": 0
}
